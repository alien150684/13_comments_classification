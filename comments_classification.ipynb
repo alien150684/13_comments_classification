{
 "cells": [
  {
   "cell_type": "markdown",
   "metadata": {
    "id": "u91gkoHnSKfr",
    "toc": true
   },
   "source": [
    "<h1>Содержание<span class=\"tocSkip\"></span></h1>\n",
    "<div class=\"toc\"><ul class=\"toc-item\"><li><span><a href=\"#Подготовка-данных\" data-toc-modified-id=\"Подготовка-данных-1\"><span class=\"toc-item-num\">1&nbsp;&nbsp;</span>Подготовка данных</a></span><ul class=\"toc-item\"><li><span><a href=\"#Очистка-текста-и-стемминг-слов\" data-toc-modified-id=\"Очистка-текста-и-стемминг-слов-1.1\"><span class=\"toc-item-num\">1.1&nbsp;&nbsp;</span>Очистка текста и стемминг слов</a></span></li><li><span><a href=\"#Деление-выборки-на-части\" data-toc-modified-id=\"Деление-выборки-на-части-1.2\"><span class=\"toc-item-num\">1.2&nbsp;&nbsp;</span>Деление выборки на части</a></span></li></ul></li><li><span><a href=\"#Обучение-модели-логистической-регрессии-на-матрице-TF-IDF\" data-toc-modified-id=\"Обучение-модели-логистической-регрессии-на-матрице-TF-IDF-2\"><span class=\"toc-item-num\">2&nbsp;&nbsp;</span>Обучение модели логистической регрессии на матрице TF-IDF</a></span><ul class=\"toc-item\"><li><span><a href=\"#Векторизация-текстов-с-помощью-TF-IDF\" data-toc-modified-id=\"Векторизация-текстов-с-помощью-TF-IDF-2.1\"><span class=\"toc-item-num\">2.1&nbsp;&nbsp;</span>Векторизация текстов с помощью TF-IDF</a></span></li><li><span><a href=\"#Обучение-модели-логистической-регрессии\" data-toc-modified-id=\"Обучение-модели-логистической-регрессии-2.2\"><span class=\"toc-item-num\">2.2&nbsp;&nbsp;</span>Обучение модели логистической регрессии</a></span></li></ul></li><li><span><a href=\"#Обучение-модели-логистической-регрессии-на-матрице-BERT\" data-toc-modified-id=\"Обучение-модели-логистической-регрессии-на-матрице-BERT-3\"><span class=\"toc-item-num\">3&nbsp;&nbsp;</span>Обучение модели логистической регрессии на матрице BERT</a></span><ul class=\"toc-item\"><li><span><a href=\"#Векторизация-текстов-с-помощью-BERT\" data-toc-modified-id=\"Векторизация-текстов-с-помощью-BERT-3.1\"><span class=\"toc-item-num\">3.1&nbsp;&nbsp;</span>Векторизация текстов с помощью BERT</a></span></li><li><span><a href=\"#Обучение-модели-логистической-регрессии\" data-toc-modified-id=\"Обучение-модели-логистической-регрессии-3.2\"><span class=\"toc-item-num\">3.2&nbsp;&nbsp;</span>Обучение модели логистической регрессии</a></span></li></ul></li><li><span><a href=\"#Обучение-модели-CatBoost\" data-toc-modified-id=\"Обучение-модели-CatBoost-4\"><span class=\"toc-item-num\">4&nbsp;&nbsp;</span>Обучение модели CatBoost</a></span></li><li><span><a href=\"#Тестирование-лучшей-модели\" data-toc-modified-id=\"Тестирование-лучшей-модели-5\"><span class=\"toc-item-num\">5&nbsp;&nbsp;</span>Тестирование лучшей модели</a></span></li><li><span><a href=\"#Чек-лист-проверки\" data-toc-modified-id=\"Чек-лист-проверки-6\"><span class=\"toc-item-num\">6&nbsp;&nbsp;</span>Чек-лист проверки</a></span></li></ul></div>"
   ]
  },
  {
   "cell_type": "markdown",
   "metadata": {
    "id": "CjuacYzfSKf0"
   },
   "source": [
    "# Определение токсичности комментариев"
   ]
  },
  {
   "cell_type": "markdown",
   "metadata": {
    "id": "dGQhC7kFSKf4"
   },
   "source": [
    "Интернет-магазин «Викишоп» запускает новый сервис. Пользователи смогут редактировать и дополнять описания товаров, как в вики-сообществах. Клиенты смогут вносить свои правки и комментировать изменения других. Магазину нужен инструмент, который будет искать токсичные комментарии и отправлять их на модерацию. \n",
    "\n",
    "Необходимо получить модель со значением метрики качества F1 не меньше 0.75. \n",
    "\n",
    "Данные находятся в файле `toxic_comments.csv`. Столбец *text* в нём содержит текст комментария, а *toxic* — целевой признак."
   ]
  },
  {
   "cell_type": "markdown",
   "metadata": {
    "id": "kZrloHoOSKf7"
   },
   "source": [
    "## Подготовка данных"
   ]
  },
  {
   "cell_type": "code",
   "execution_count": 3,
   "metadata": {
    "colab": {
     "base_uri": "https://localhost:8080/"
    },
    "id": "Kd-KLK7MSKf9",
    "outputId": "317f8f48-800b-4e40-9f4f-9fc8653fac9e"
   },
   "outputs": [
    {
     "name": "stderr",
     "output_type": "stream",
     "text": [
      "0it [00:00, ?it/s]\n"
     ]
    },
    {
     "name": "stdout",
     "output_type": "stream",
     "text": [
      "Mounted at /content/gdrive\n"
     ]
    }
   ],
   "source": [
    "import pandas as pd\n",
    "import numpy as np\n",
    "import matplotlib.pyplot as plt\n",
    "\n",
    "from tqdm import tqdm\n",
    "tqdm().pandas()\n",
    "# from tqdm import notebook\n",
    "# notebook.tqdm().pandas()\n",
    "\n",
    "# игнорирование предупреждений\n",
    "import warnings\n",
    "warnings.filterwarnings('ignore')\n",
    "\n",
    "# Модуль для работы с регулярными выражениями\n",
    "import re\n",
    "\n",
    "# Передаём стеммеру как аргумент значение 'english', чтобы включить лингвистический анализ \n",
    "# именно английского языка\n",
    "from nltk.stem import SnowballStemmer\n",
    "stemmer = SnowballStemmer('english')\n",
    "from nltk.stem import WordNetLemmatizer\n",
    "lemmatizer = WordNetLemmatizer()\n",
    "\n",
    "# Чтобы очистить мешок слов, найдём стоп-слова, то есть слова без смысловой нагрузки.\n",
    "from nltk.corpus import stopwords\n",
    "# Чтобы пакет заработал, загрузим список стоп-слов.\n",
    "# import nltk\n",
    "# nltk.download('stopwords')\n",
    "\n",
    "# модуль для разделения выборки на части\n",
    "from sklearn.model_selection import train_test_split\n",
    "\n",
    "# модуль для перемешивания значений признаков\n",
    "from sklearn.utils import shuffle\n",
    "\n",
    "# Вычислим TF-IDF для корпуса текстов. Обратимся к классу TfidfVectorizer().\n",
    "from sklearn.feature_extraction.text import TfidfVectorizer\n",
    "\n",
    "# импортируем алгоритм логистической регрессии\n",
    "from sklearn.linear_model import LogisticRegression\n",
    "\n",
    "# импортируем алгоритм градиентного бустинга\n",
    "from catboost import CatBoostClassifier\n",
    "\n",
    "# функции метрик\n",
    "from sklearn.metrics import f1_score\n",
    "\n",
    "# Импортируем библиотеку PyTorch, которая применяется в задачах обработки естественного текста и \n",
    "# компьютерного зрения.\n",
    "import torch\n",
    "# Модели типа BERT находятся в библиотеке transformers (англ. «трансформеры»). \n",
    "import transformers\n",
    "\n",
    "# библиотека дя загрузки файлов из Google Drive\n",
    "from google.colab import drive\n",
    "drive.mount('/content/gdrive')"
   ]
  },
  {
   "cell_type": "code",
   "execution_count": null,
   "metadata": {
    "colab": {
     "base_uri": "https://localhost:8080/",
     "height": 362
    },
    "id": "lKciR1i-SKgC",
    "outputId": "f19cac36-b16d-41a0-b8e1-cb1658755485"
   },
   "outputs": [
    {
     "data": {
      "text/html": [
       "\n",
       "  <div id=\"df-20d08e15-8b91-4fab-99c4-db0c163e4703\">\n",
       "    <div class=\"colab-df-container\">\n",
       "      <div>\n",
       "<style scoped>\n",
       "    .dataframe tbody tr th:only-of-type {\n",
       "        vertical-align: middle;\n",
       "    }\n",
       "\n",
       "    .dataframe tbody tr th {\n",
       "        vertical-align: top;\n",
       "    }\n",
       "\n",
       "    .dataframe thead th {\n",
       "        text-align: right;\n",
       "    }\n",
       "</style>\n",
       "<table border=\"1\" class=\"dataframe\">\n",
       "  <thead>\n",
       "    <tr style=\"text-align: right;\">\n",
       "      <th></th>\n",
       "      <th>text</th>\n",
       "      <th>toxic</th>\n",
       "    </tr>\n",
       "  </thead>\n",
       "  <tbody>\n",
       "    <tr>\n",
       "      <th>0</th>\n",
       "      <td>Explanation\\nWhy the edits made under my usern...</td>\n",
       "      <td>0</td>\n",
       "    </tr>\n",
       "    <tr>\n",
       "      <th>1</th>\n",
       "      <td>D'aww! He matches this background colour I'm s...</td>\n",
       "      <td>0</td>\n",
       "    </tr>\n",
       "    <tr>\n",
       "      <th>2</th>\n",
       "      <td>Hey man, I'm really not trying to edit war. It...</td>\n",
       "      <td>0</td>\n",
       "    </tr>\n",
       "    <tr>\n",
       "      <th>3</th>\n",
       "      <td>\"\\nMore\\nI can't make any real suggestions on ...</td>\n",
       "      <td>0</td>\n",
       "    </tr>\n",
       "    <tr>\n",
       "      <th>4</th>\n",
       "      <td>You, sir, are my hero. Any chance you remember...</td>\n",
       "      <td>0</td>\n",
       "    </tr>\n",
       "  </tbody>\n",
       "</table>\n",
       "</div>\n",
       "      <button class=\"colab-df-convert\" onclick=\"convertToInteractive('df-20d08e15-8b91-4fab-99c4-db0c163e4703')\"\n",
       "              title=\"Convert this dataframe to an interactive table.\"\n",
       "              style=\"display:none;\">\n",
       "        \n",
       "  <svg xmlns=\"http://www.w3.org/2000/svg\" height=\"24px\"viewBox=\"0 0 24 24\"\n",
       "       width=\"24px\">\n",
       "    <path d=\"M0 0h24v24H0V0z\" fill=\"none\"/>\n",
       "    <path d=\"M18.56 5.44l.94 2.06.94-2.06 2.06-.94-2.06-.94-.94-2.06-.94 2.06-2.06.94zm-11 1L8.5 8.5l.94-2.06 2.06-.94-2.06-.94L8.5 2.5l-.94 2.06-2.06.94zm10 10l.94 2.06.94-2.06 2.06-.94-2.06-.94-.94-2.06-.94 2.06-2.06.94z\"/><path d=\"M17.41 7.96l-1.37-1.37c-.4-.4-.92-.59-1.43-.59-.52 0-1.04.2-1.43.59L10.3 9.45l-7.72 7.72c-.78.78-.78 2.05 0 2.83L4 21.41c.39.39.9.59 1.41.59.51 0 1.02-.2 1.41-.59l7.78-7.78 2.81-2.81c.8-.78.8-2.07 0-2.86zM5.41 20L4 18.59l7.72-7.72 1.47 1.35L5.41 20z\"/>\n",
       "  </svg>\n",
       "      </button>\n",
       "      \n",
       "  <style>\n",
       "    .colab-df-container {\n",
       "      display:flex;\n",
       "      flex-wrap:wrap;\n",
       "      gap: 12px;\n",
       "    }\n",
       "\n",
       "    .colab-df-convert {\n",
       "      background-color: #E8F0FE;\n",
       "      border: none;\n",
       "      border-radius: 50%;\n",
       "      cursor: pointer;\n",
       "      display: none;\n",
       "      fill: #1967D2;\n",
       "      height: 32px;\n",
       "      padding: 0 0 0 0;\n",
       "      width: 32px;\n",
       "    }\n",
       "\n",
       "    .colab-df-convert:hover {\n",
       "      background-color: #E2EBFA;\n",
       "      box-shadow: 0px 1px 2px rgba(60, 64, 67, 0.3), 0px 1px 3px 1px rgba(60, 64, 67, 0.15);\n",
       "      fill: #174EA6;\n",
       "    }\n",
       "\n",
       "    [theme=dark] .colab-df-convert {\n",
       "      background-color: #3B4455;\n",
       "      fill: #D2E3FC;\n",
       "    }\n",
       "\n",
       "    [theme=dark] .colab-df-convert:hover {\n",
       "      background-color: #434B5C;\n",
       "      box-shadow: 0px 1px 3px 1px rgba(0, 0, 0, 0.15);\n",
       "      filter: drop-shadow(0px 1px 2px rgba(0, 0, 0, 0.3));\n",
       "      fill: #FFFFFF;\n",
       "    }\n",
       "  </style>\n",
       "\n",
       "      <script>\n",
       "        const buttonEl =\n",
       "          document.querySelector('#df-20d08e15-8b91-4fab-99c4-db0c163e4703 button.colab-df-convert');\n",
       "        buttonEl.style.display =\n",
       "          google.colab.kernel.accessAllowed ? 'block' : 'none';\n",
       "\n",
       "        async function convertToInteractive(key) {\n",
       "          const element = document.querySelector('#df-20d08e15-8b91-4fab-99c4-db0c163e4703');\n",
       "          const dataTable =\n",
       "            await google.colab.kernel.invokeFunction('convertToInteractive',\n",
       "                                                     [key], {});\n",
       "          if (!dataTable) return;\n",
       "\n",
       "          const docLinkHtml = 'Like what you see? Visit the ' +\n",
       "            '<a target=\"_blank\" href=https://colab.research.google.com/notebooks/data_table.ipynb>data table notebook</a>'\n",
       "            + ' to learn more about interactive tables.';\n",
       "          element.innerHTML = '';\n",
       "          dataTable['output_type'] = 'display_data';\n",
       "          await google.colab.output.renderOutput(dataTable, element);\n",
       "          const docLink = document.createElement('div');\n",
       "          docLink.innerHTML = docLinkHtml;\n",
       "          element.appendChild(docLink);\n",
       "        }\n",
       "      </script>\n",
       "    </div>\n",
       "  </div>\n",
       "  "
      ],
      "text/plain": [
       "                                                text  toxic\n",
       "0  Explanation\\nWhy the edits made under my usern...      0\n",
       "1  D'aww! He matches this background colour I'm s...      0\n",
       "2  Hey man, I'm really not trying to edit war. It...      0\n",
       "3  \"\\nMore\\nI can't make any real suggestions on ...      0\n",
       "4  You, sir, are my hero. Any chance you remember...      0"
      ]
     },
     "metadata": {},
     "output_type": "display_data"
    },
    {
     "name": "stdout",
     "output_type": "stream",
     "text": [
      "<class 'pandas.core.frame.DataFrame'>\n",
      "RangeIndex: 159571 entries, 0 to 159570\n",
      "Data columns (total 2 columns):\n",
      " #   Column  Non-Null Count   Dtype \n",
      "---  ------  --------------   ----- \n",
      " 0   text    159571 non-null  object\n",
      " 1   toxic   159571 non-null  int64 \n",
      "dtypes: int64(1), object(1)\n",
      "memory usage: 2.4+ MB\n"
     ]
    }
   ],
   "source": [
    "df = pd.read_csv('/content/gdrive/My Drive/datasets/toxic_comments.csv')\n",
    "\n",
    "display(df.head())\n",
    "df.info()"
   ]
  },
  {
   "cell_type": "code",
   "execution_count": null,
   "metadata": {
    "colab": {
     "base_uri": "https://localhost:8080/"
    },
    "id": "Ja_M5XX6SKgF",
    "outputId": "d985e686-e8b5-4931-b7a7-e17c1223b910"
   },
   "outputs": [
    {
     "name": "stdout",
     "output_type": "stream",
     "text": [
      "0    0.898321\n",
      "1    0.101679\n",
      "Name: toxic, dtype: float64\n"
     ]
    }
   ],
   "source": [
    "print(df['toxic'].value_counts(normalize=True))"
   ]
  },
  {
   "cell_type": "markdown",
   "metadata": {
    "id": "tjJiDt_DSKgG"
   },
   "source": [
    "**Выводы**\n",
    "1. Выборка довольно большая, содержит почти 160000 строк. Пропусков нет.\n",
    "2. Выборка содержит комментрии на английском языке, что необходимо учитывать при выборе предобученной модели BERT.\n",
    "3. Выборке наблюдается дисбаланс классов в соотношении 9:1 в пользу обектов нулевого класса."
   ]
  },
  {
   "cell_type": "markdown",
   "metadata": {
    "id": "pdDrhGpJSKgI"
   },
   "source": [
    "### Очистка текста и стемминг слов"
   ]
  },
  {
   "cell_type": "code",
   "execution_count": null,
   "metadata": {
    "id": "tZO8LUjaSKgL"
   },
   "outputs": [],
   "source": [
    "# Напишем функцию очистки текста\n",
    "def clear_text(text):\n",
    "    # Регулярное выражение начинается с символа r, заключается в кавычки и квадратные скобки.\n",
    "    # В квадратных скобках перечисляют все символы, подходящие под шаблон.\n",
    "    # Если мы вызовем функцию re.sub(), указанные символы заменят пробелы. \n",
    "    # Чтобы указать, что символы под шаблон не подходят, т.е. их заменять пробелами не надо, поставим знак «домика» (^).\n",
    "    re_text = re.sub(r'[^a-zA-Z]', ' ', text)\n",
    "    \n",
    "    # Методом split() преобразуем текст с лишними пробелами в список. \n",
    "    # Если не указывать аргументы у split(), он делает разбиение по пробелам или группам пробелов.\n",
    "    text_list = re_text.split()\n",
    "    \n",
    "    # Формируем список слов после стемминга\n",
    "    stemmed_list = [stemmer.stem(word) for word in text_list]\n",
    "    \n",
    "    # Формируем список слов после лемматизации\n",
    "    # lemm_list = [lemmatizer.lemmatize(word).lower() for word in text_list]\n",
    "    \n",
    "    # Список слов преобразуем в строку вызовом метода join()\n",
    "    clear_text = ' '.join(stemmed_list)\n",
    "    \n",
    "    return clear_text"
   ]
  },
  {
   "cell_type": "code",
   "execution_count": null,
   "metadata": {
    "id": "oKDjBO2ESKgM",
    "outputId": "ccf17417-ec7f-4e02-fbef-3bf09870ec33"
   },
   "outputs": [
    {
     "name": "stdout",
     "output_type": "stream",
     "text": [
      "Couldn't find program: 'false'\n"
     ]
    }
   ],
   "source": [
    "%%script false --no-raise-error\n",
    "\n",
    "# Переведём тексты в стандартный для Python формат: кодировку Unicode (U).\n",
    "# Очистим текст и произведём стемминг слов.\n",
    "df['clear_stemmed_text'] = df['text'].astype('unicode').progress_apply(clear_text)"
   ]
  },
  {
   "cell_type": "code",
   "execution_count": 5,
   "metadata": {
    "colab": {
     "base_uri": "https://localhost:8080/",
     "height": 206
    },
    "id": "ZGhuXZ95SKgd",
    "outputId": "1634531c-1f06-46e3-a792-32e77d88010c",
    "scrolled": true
   },
   "outputs": [
    {
     "data": {
      "text/html": [
       "\n",
       "  <div id=\"df-1c20f15e-4ca5-4626-9553-be24b8412442\">\n",
       "    <div class=\"colab-df-container\">\n",
       "      <div>\n",
       "<style scoped>\n",
       "    .dataframe tbody tr th:only-of-type {\n",
       "        vertical-align: middle;\n",
       "    }\n",
       "\n",
       "    .dataframe tbody tr th {\n",
       "        vertical-align: top;\n",
       "    }\n",
       "\n",
       "    .dataframe thead th {\n",
       "        text-align: right;\n",
       "    }\n",
       "</style>\n",
       "<table border=\"1\" class=\"dataframe\">\n",
       "  <thead>\n",
       "    <tr style=\"text-align: right;\">\n",
       "      <th></th>\n",
       "      <th>clear_stemmed_text</th>\n",
       "      <th>toxic</th>\n",
       "    </tr>\n",
       "  </thead>\n",
       "  <tbody>\n",
       "    <tr>\n",
       "      <th>0</th>\n",
       "      <td>explan whi the edit made under my usernam hard...</td>\n",
       "      <td>0</td>\n",
       "    </tr>\n",
       "    <tr>\n",
       "      <th>1</th>\n",
       "      <td>d aww he match this background colour i m seem...</td>\n",
       "      <td>0</td>\n",
       "    </tr>\n",
       "    <tr>\n",
       "      <th>2</th>\n",
       "      <td>hey man i m realli not tri to edit war it s ju...</td>\n",
       "      <td>0</td>\n",
       "    </tr>\n",
       "    <tr>\n",
       "      <th>3</th>\n",
       "      <td>more i can t make ani real suggest on improv i...</td>\n",
       "      <td>0</td>\n",
       "    </tr>\n",
       "    <tr>\n",
       "      <th>4</th>\n",
       "      <td>you sir are my hero ani chanc you rememb what ...</td>\n",
       "      <td>0</td>\n",
       "    </tr>\n",
       "  </tbody>\n",
       "</table>\n",
       "</div>\n",
       "      <button class=\"colab-df-convert\" onclick=\"convertToInteractive('df-1c20f15e-4ca5-4626-9553-be24b8412442')\"\n",
       "              title=\"Convert this dataframe to an interactive table.\"\n",
       "              style=\"display:none;\">\n",
       "        \n",
       "  <svg xmlns=\"http://www.w3.org/2000/svg\" height=\"24px\"viewBox=\"0 0 24 24\"\n",
       "       width=\"24px\">\n",
       "    <path d=\"M0 0h24v24H0V0z\" fill=\"none\"/>\n",
       "    <path d=\"M18.56 5.44l.94 2.06.94-2.06 2.06-.94-2.06-.94-.94-2.06-.94 2.06-2.06.94zm-11 1L8.5 8.5l.94-2.06 2.06-.94-2.06-.94L8.5 2.5l-.94 2.06-2.06.94zm10 10l.94 2.06.94-2.06 2.06-.94-2.06-.94-.94-2.06-.94 2.06-2.06.94z\"/><path d=\"M17.41 7.96l-1.37-1.37c-.4-.4-.92-.59-1.43-.59-.52 0-1.04.2-1.43.59L10.3 9.45l-7.72 7.72c-.78.78-.78 2.05 0 2.83L4 21.41c.39.39.9.59 1.41.59.51 0 1.02-.2 1.41-.59l7.78-7.78 2.81-2.81c.8-.78.8-2.07 0-2.86zM5.41 20L4 18.59l7.72-7.72 1.47 1.35L5.41 20z\"/>\n",
       "  </svg>\n",
       "      </button>\n",
       "      \n",
       "  <style>\n",
       "    .colab-df-container {\n",
       "      display:flex;\n",
       "      flex-wrap:wrap;\n",
       "      gap: 12px;\n",
       "    }\n",
       "\n",
       "    .colab-df-convert {\n",
       "      background-color: #E8F0FE;\n",
       "      border: none;\n",
       "      border-radius: 50%;\n",
       "      cursor: pointer;\n",
       "      display: none;\n",
       "      fill: #1967D2;\n",
       "      height: 32px;\n",
       "      padding: 0 0 0 0;\n",
       "      width: 32px;\n",
       "    }\n",
       "\n",
       "    .colab-df-convert:hover {\n",
       "      background-color: #E2EBFA;\n",
       "      box-shadow: 0px 1px 2px rgba(60, 64, 67, 0.3), 0px 1px 3px 1px rgba(60, 64, 67, 0.15);\n",
       "      fill: #174EA6;\n",
       "    }\n",
       "\n",
       "    [theme=dark] .colab-df-convert {\n",
       "      background-color: #3B4455;\n",
       "      fill: #D2E3FC;\n",
       "    }\n",
       "\n",
       "    [theme=dark] .colab-df-convert:hover {\n",
       "      background-color: #434B5C;\n",
       "      box-shadow: 0px 1px 3px 1px rgba(0, 0, 0, 0.15);\n",
       "      filter: drop-shadow(0px 1px 2px rgba(0, 0, 0, 0.3));\n",
       "      fill: #FFFFFF;\n",
       "    }\n",
       "  </style>\n",
       "\n",
       "      <script>\n",
       "        const buttonEl =\n",
       "          document.querySelector('#df-1c20f15e-4ca5-4626-9553-be24b8412442 button.colab-df-convert');\n",
       "        buttonEl.style.display =\n",
       "          google.colab.kernel.accessAllowed ? 'block' : 'none';\n",
       "\n",
       "        async function convertToInteractive(key) {\n",
       "          const element = document.querySelector('#df-1c20f15e-4ca5-4626-9553-be24b8412442');\n",
       "          const dataTable =\n",
       "            await google.colab.kernel.invokeFunction('convertToInteractive',\n",
       "                                                     [key], {});\n",
       "          if (!dataTable) return;\n",
       "\n",
       "          const docLinkHtml = 'Like what you see? Visit the ' +\n",
       "            '<a target=\"_blank\" href=https://colab.research.google.com/notebooks/data_table.ipynb>data table notebook</a>'\n",
       "            + ' to learn more about interactive tables.';\n",
       "          element.innerHTML = '';\n",
       "          dataTable['output_type'] = 'display_data';\n",
       "          await google.colab.output.renderOutput(dataTable, element);\n",
       "          const docLink = document.createElement('div');\n",
       "          docLink.innerHTML = docLinkHtml;\n",
       "          element.appendChild(docLink);\n",
       "        }\n",
       "      </script>\n",
       "    </div>\n",
       "  </div>\n",
       "  "
      ],
      "text/plain": [
       "                                  clear_stemmed_text  toxic\n",
       "0  explan whi the edit made under my usernam hard...      0\n",
       "1  d aww he match this background colour i m seem...      0\n",
       "2  hey man i m realli not tri to edit war it s ju...      0\n",
       "3  more i can t make ani real suggest on improv i...      0\n",
       "4  you sir are my hero ani chanc you rememb what ...      0"
      ]
     },
     "execution_count": 5,
     "metadata": {},
     "output_type": "execute_result"
    }
   ],
   "source": [
    "# df[['clear_stemmed_text', 'toxic']].to_csv('toxic_clear_comments.csv', index=False)\n",
    "\n",
    "df = pd.read_csv('/content/gdrive/My Drive/datasets/toxic_clear_comments.csv')\n",
    "df.head()"
   ]
  },
  {
   "cell_type": "code",
   "execution_count": 6,
   "metadata": {
    "id": "yjPOZzhySKgf"
   },
   "outputs": [],
   "source": [
    "# Удаление возможных пропусков\n",
    "df.dropna(inplace=True);"
   ]
  },
  {
   "cell_type": "markdown",
   "metadata": {
    "id": "IlRXGAJUSKgg"
   },
   "source": [
    "### Деление выборки на части"
   ]
  },
  {
   "cell_type": "code",
   "execution_count": 7,
   "metadata": {
    "colab": {
     "base_uri": "https://localhost:8080/"
    },
    "id": "bTKzVrvESKgh",
    "outputId": "9669cedb-e698-4801-be24-4205e1f4ceeb"
   },
   "outputs": [
    {
     "name": "stdout",
     "output_type": "stream",
     "text": [
      "(95738,)\n",
      "(31913,)\n",
      "(31913,)\n"
     ]
    }
   ],
   "source": [
    "# Отделим целевой признак от остальных.\n",
    "x = df['clear_stemmed_text']\n",
    "y = df['toxic']\n",
    "\n",
    "del df\n",
    "\n",
    "# Отделим 20% данных для тестовой выборки.\n",
    "x_train_valid, x_test, y_train_valid, y_test = train_test_split(\n",
    "    x, y, test_size=0.20, random_state=12345)\n",
    "\n",
    "# Создадим обучающую и валидационную выборки.\n",
    "x_train, x_valid, y_train, y_valid = train_test_split(\n",
    "    x_train_valid, y_train_valid, test_size=0.25, random_state=12345)\n",
    "\n",
    "print(x_train.shape)\n",
    "print(x_valid.shape)\n",
    "print(x_test.shape)"
   ]
  },
  {
   "cell_type": "markdown",
   "metadata": {
    "id": "KpzFQlqRSKgn"
   },
   "source": [
    "## Обучение модели логистической регрессии на матрице TF-IDF"
   ]
  },
  {
   "cell_type": "markdown",
   "metadata": {
    "id": "ARfkqewVyxc4"
   },
   "source": [
    "### Векторизация текстов с помощью TF-IDF"
   ]
  },
  {
   "cell_type": "code",
   "execution_count": null,
   "metadata": {
    "id": "f1ZzZCQJSKgk",
    "outputId": "3ee8c553-7de7-474d-f8b0-122f3c709a80"
   },
   "outputs": [
    {
     "name": "stdout",
     "output_type": "stream",
     "text": [
      "(95738, 96889)\n",
      "(31913, 96889)\n",
      "(31913, 96889)\n"
     ]
    }
   ],
   "source": [
    "# Создадим множество стоп-слов - слов без смысловой нагрузки \n",
    "# Например, к стоп-словам относят местоимения, союзы и предлоги\n",
    "stop_words = set(stopwords.words('english'))\n",
    "\n",
    "# Инициализируем векторизатор с учётом стоп-слов\n",
    "count_tf_idf = TfidfVectorizer(stop_words=stop_words)\n",
    "\n",
    "# Вычислим TF-IDF для корпусов текстов.\n",
    "tf_idf_train = count_tf_idf.fit_transform(x_train)\n",
    "tf_idf_valid = count_tf_idf.transform(x_valid)\n",
    "tf_idf_test = count_tf_idf.transform(x_test)\n",
    "\n",
    "print(tf_idf_train.shape)\n",
    "print(tf_idf_valid.shape)\n",
    "print(tf_idf_test.shape)"
   ]
  },
  {
   "cell_type": "markdown",
   "metadata": {
    "id": "t4c-TEXiy6OP"
   },
   "source": [
    "### Обучение модели логистической регрессии"
   ]
  },
  {
   "cell_type": "code",
   "execution_count": null,
   "metadata": {
    "id": "OGtPTColSKgn"
   },
   "outputs": [],
   "source": [
    "# Инициализируем модель логистической регрессии\n",
    "model = LogisticRegression(\n",
    "                           class_weight='balanced', \n",
    "                           random_state=12345, \n",
    "                           )\n",
    "\n",
    "# Обучаем модель на тренировочной выборке\n",
    "model.fit(tf_idf_train, y_train)\n",
    "\n",
    "# в каждом случае оценим \"вероятности\" того, что целевой признак примет значение 0 или 1\n",
    "probabilities_valid = model.predict_proba(tf_idf_valid)\n",
    "\n",
    "# в каждом случае оценим \"вероятности\" того, что целевой признак примет значение 1\n",
    "probabilities_one_valid = probabilities_valid[:, 1]"
   ]
  },
  {
   "cell_type": "code",
   "execution_count": null,
   "metadata": {
    "id": "_lFRkGHxSKgo"
   },
   "outputs": [],
   "source": [
    "f1 = []\n",
    "\n",
    "# Список пороговых значений\n",
    "# thresholds = np.unique(probabilities_one_valid)\n",
    "thresholds = np.arange(0, 1, 0.01)\n",
    "\n",
    "for threshold in thresholds:\n",
    "    # Получаем список предсказаний для текущего порогового значения\n",
    "    predicted_valid = probabilities_one_valid > threshold\n",
    "    # Рассчитаем F1-меру и добавляем её в список\n",
    "    f1.append(f1_score(y_valid, predicted_valid))\n",
    "\n",
    "# Преобрразуем список F1-мер для разных поороговых значений в Series\n",
    "f1 = pd.Series(f1)"
   ]
  },
  {
   "cell_type": "code",
   "execution_count": null,
   "metadata": {
    "id": "QKACreqNSKgr",
    "outputId": "e4ef01ce-b12b-4ae1-e40d-8f2f4d5588ba"
   },
   "outputs": [
    {
     "data": {
      "image/png": "[encoded data removed]",
      "text/plain": [
       "<Figure size 576x432 with 1 Axes>"
      ]
     },
     "metadata": {
      "needs_background": "light"
     },
     "output_type": "display_data"
    },
    {
     "name": "stdout",
     "output_type": "stream",
     "text": [
      "Наибольшее значение F1 = 0.79 достигается при пороговом значении 0.69.\n"
     ]
    }
   ],
   "source": [
    "plt.figure(figsize=(8, 6))\n",
    "plt.plot(thresholds, f1)\n",
    "\n",
    "plt.ylim([0.0, 1.0])\n",
    "plt.xlim([0.0, 1.0])\n",
    "plt.grid()\n",
    "\n",
    "plt.xlabel('Порог классификации')\n",
    "plt.ylabel('F1-мера')\n",
    "plt.title('Зависимость F1-меры от порога классификации')\n",
    "\n",
    "plt.show()\n",
    "\n",
    "print(f'Наибольшее значение F1 = {f1.max():.2f} достигается при пороговом значении {thresholds[f1.idxmax()]:.2f}.')"
   ]
  },
  {
   "cell_type": "markdown",
   "metadata": {
    "id": "7ZPE24VMzElH"
   },
   "source": [
    "## Обучение модели логистической регрессии на матрице BERT"
   ]
  },
  {
   "cell_type": "markdown",
   "metadata": {
    "id": "P9ZthjVZSKgu"
   },
   "source": [
    "### Векторизация текстов с помощью BERT"
   ]
  },
  {
   "cell_type": "code",
   "execution_count": 8,
   "metadata": {
    "colab": {
     "base_uri": "https://localhost:8080/"
    },
    "id": "88b5DC18SKgv",
    "outputId": "04fd8c4e-ad87-4065-ac1d-722a71bda8f2"
   },
   "outputs": [
    {
     "name": "stderr",
     "output_type": "stream",
     "text": [
      "100%|██████████| 159564/159564 [05:23<00:00, 493.10it/s]\n"
     ]
    }
   ],
   "source": [
    "# Инициализируем токенизатор как объект класса BertTokenizer(). \n",
    "# Передадим ему аргумент vocab_file — это файл со словарём, на котором обучалась модель.\n",
    "tokenizer = transformers.BertTokenizer(\n",
    "    vocab_file='/content/gdrive/My Drive/BERT/vocab.txt')\n",
    "\n",
    "\n",
    "# Создадим специальную функцию для кодирования текстов\n",
    "def encode(text):\n",
    "    return tokenizer.encode(text, add_special_tokens=True)\n",
    "\n",
    "# Токейнизируем тексты. Присваиваем словам номера из словаря 'vocab.txt'\n",
    "tokenized_vectors = x.progress_apply(\n",
    "    lambda x: tokenizer.encode(x, add_special_tokens=True))"
   ]
  },
  {
   "cell_type": "code",
   "execution_count": 9,
   "metadata": {
    "colab": {
     "base_uri": "https://localhost:8080/"
    },
    "id": "O1NKBE07SKgx",
    "outputId": "eb0d8da4-a011-4f0b-a825-2d6af6a1c329"
   },
   "outputs": [
    {
     "name": "stderr",
     "output_type": "stream",
     "text": [
      "100%|██████████| 159564/159564 [00:00<00:00, 161908.88it/s]\n"
     ]
    },
    {
     "data": {
      "text/plain": [
       "(159564, 512)"
      ]
     },
     "execution_count": 9,
     "metadata": {},
     "output_type": "execute_result"
    }
   ],
   "source": [
    "# Ограничим максимальную длину вектора (ограничение прописано в файле'bert_config.json')\n",
    "max_len = 512\n",
    "\n",
    "def vector_len_lim(list):\n",
    "    if len(list) > max_len:\n",
    "        del list[max_len:]\n",
    "    else:\n",
    "        list.extend([0]*(max_len - len(list)))\n",
    "\n",
    "# Применим метод padding (англ. «отступ»), чтобы после токенизации длины исходных текстов в корпусе были равными. \n",
    "# Только при таком условии будет работать модель BERT.\n",
    "tokenized_vectors.progress_apply(vector_len_lim)\n",
    "padded = np.array([i for i in tokenized_vectors.values])\n",
    "\n",
    "# Проверка одинаковой длины векторов\n",
    "for vector in tokenized_vectors.values:\n",
    "    if len(vector) != max_len:\n",
    "        print(len(vector))\n",
    "\n",
    "# Кодируем имеющиеся в тексте слова единичками.\n",
    "# Cоздадим маску для выделения важных токенов.\n",
    "attention_mask = np.where(padded != 0, 1, 0)\n",
    "attention_mask.shape"
   ]
  },
  {
   "cell_type": "code",
   "execution_count": 10,
   "metadata": {
    "colab": {
     "base_uri": "https://localhost:8080/"
    },
    "id": "90Tb0ydzSKgz",
    "outputId": "3e27a6c9-95a9-4364-c4aa-aa80bf07f4f1"
   },
   "outputs": [
    {
     "name": "stderr",
     "output_type": "stream",
     "text": [
      "Some weights of the model checkpoint at /content/gdrive/My Drive/BERT/pytorch_model.bin were not used when initializing BertModel: ['cls.predictions.transform.LayerNorm.bias', 'cls.seq_relationship.bias', 'cls.predictions.transform.dense.bias', 'cls.predictions.decoder.weight', 'cls.predictions.bias', 'cls.seq_relationship.weight', 'cls.predictions.transform.dense.weight', 'cls.predictions.transform.LayerNorm.weight']\n",
      "- This IS expected if you are initializing BertModel from the checkpoint of a model trained on another task or with another architecture (e.g. initializing a BertForSequenceClassification model from a BertForPreTraining model).\n",
      "- This IS NOT expected if you are initializing BertModel from the checkpoint of a model that you expect to be exactly identical (initializing a BertForSequenceClassification model from a BertForSequenceClassification model).\n"
     ]
    }
   ],
   "source": [
    "# Инициализируем конфигурацию BertConfig (англ. Bert Configuration). \n",
    "# В качестве аргумента передадим ей JSON-файл с описанием настроек модели. \n",
    "config = transformers.BertConfig.from_json_file(\n",
    "    '/content/gdrive/My Drive/BERT/bert_config.json')\n",
    "\n",
    "# Затем инициализируем саму модель класса BertModel. \n",
    "# Передадим ей файл с предобученной моделью и конфигурацией:\n",
    "model = transformers.BertModel.from_pretrained(\n",
    "    '/content/gdrive/My Drive/BERT/pytorch_model.bin', config=config)"
   ]
  },
  {
   "cell_type": "code",
   "execution_count": 11,
   "metadata": {
    "id": "UHV5486XeqVu"
   },
   "outputs": [],
   "source": [
    "# Можно сделать предварительную проверку на наличие GPU\n",
    "device = torch.device(\"cuda:0\") if torch.cuda.is_available() else torch.device(\"cpu\")"
   ]
  },
  {
   "cell_type": "code",
   "execution_count": 20,
   "metadata": {
    "colab": {
     "base_uri": "https://localhost:8080/"
    },
    "id": "271i3bAuSKg2",
    "outputId": "e8e43559-a455-44e5-f580-dce6c51c7d2e"
   },
   "outputs": [
    {
     "name": "stderr",
     "output_type": "stream",
     "text": [
      "100%|██████████| 1595/1595 [1:28:16<00:00,  3.32s/it]\n"
     ]
    }
   ],
   "source": [
    "# Эмбеддинги модель BERT создаёт батчами. \n",
    "# Чтобы хватило оперативной памяти, сделаем размер батча небольшим:\n",
    "batch_size = 100\n",
    "\n",
    "# Cделаем пустой список для хранения эмбеддингов твитов.\n",
    "embeddings = []\n",
    "\n",
    "# Сделаем цикл по батчам.\n",
    "for i in tqdm(range(padded.shape[0] // batch_size)):\n",
    "        # Преобразуем данные в формат тензоров (англ. tensor) — многомерных векторов в библиотеке torch. \n",
    "        # Тип данных LongTensor (англ. «длинный тензор») хранит числа в «длинном формате», \n",
    "        # то есть выделяет на каждое число 64 бита.\n",
    "        batch = torch.LongTensor(padded[batch_size*i:batch_size*(i+1)]).to(device) \n",
    "        # batch = torch.LongTensor(input_ids[batch_size*i:batch_size*(i+1)]).cuda() # другой вариант\n",
    "        \n",
    "        # Преобразуем маску\n",
    "        attention_mask_batch = torch.LongTensor(attention_mask[batch_size*i:batch_size*(i+1)]).to(device)\n",
    "        \n",
    "        # Для ускорения вычисления функцией no_grad() (англ. no gradient, «нет градиента») в библиотеке torch укажем,\n",
    "        # что градиенты не нужны: модель BERT обучать не будем.\n",
    "        with torch.no_grad():  \n",
    "            model.to(device)\n",
    "            # Чтобы получить эмбеддинги для батча, передадим модели данные и маску\n",
    "            batch_embeddings = model(batch, attention_mask=attention_mask_batch)\n",
    "       \n",
    "        # Из полученного тензора извлечём нужные элементы и добавим в список всех эмбеддингов.\n",
    "        # Преобразуем элементы методом numpy() к типу numpy.array.\n",
    "        # embeddings.append(batch_embeddings[0][:,0,:].numpy())\n",
    "        embeddings.append(batch_embeddings[0][:,0,:].cpu().numpy()) # перевод обратно на проц, чтобы в numpy \"кинуть\"\n",
    "\n",
    "        del batch\n",
    "        del attention_mask_batch\n",
    "        del batch_embeddings"
   ]
  },
  {
   "cell_type": "code",
   "execution_count": 21,
   "metadata": {
    "id": "mX3yRu-gSKg4"
   },
   "outputs": [],
   "source": [
    "# Соберём все эмбеддинги в матрицу признаков вызовов функции concatenate().\n",
    "features = np.concatenate(embeddings)"
   ]
  },
  {
   "cell_type": "code",
   "execution_count": 22,
   "metadata": {
    "colab": {
     "base_uri": "https://localhost:8080/"
    },
    "id": "CNWAlPtZ8QnM",
    "outputId": "5a0092cb-ed88-445f-c881-4734dd11e627"
   },
   "outputs": [
    {
     "data": {
      "text/plain": [
       "(159500, 768)"
      ]
     },
     "execution_count": 22,
     "metadata": {},
     "output_type": "execute_result"
    }
   ],
   "source": [
    "# Контроль размеров матрицы\n",
    "np.shape(features)"
   ]
  },
  {
   "cell_type": "code",
   "execution_count": 23,
   "metadata": {
    "id": "PD0JnR-28ckd"
   },
   "outputs": [],
   "source": [
    "# Сохранение векторов в файл\n",
    "np.save('/content/gdrive/My Drive/datasets/embeddings', features)"
   ]
  },
  {
   "cell_type": "code",
   "execution_count": 27,
   "metadata": {
    "colab": {
     "base_uri": "https://localhost:8080/"
    },
    "id": "zi2m9w1CxQKT",
    "outputId": "bfde51d1-c90e-4d06-8153-ae5c35ab4a75"
   },
   "outputs": [
    {
     "name": "stdout",
     "output_type": "stream",
     "text": [
      "(95700, 768)\n",
      "(31900, 768)\n",
      "(31900, 768)\n"
     ]
    }
   ],
   "source": [
    "# Отделим 20% данных для тестовой выборки.\n",
    "features_train_valid, features_test, target_train_valid, target_test = train_test_split(\n",
    "    features, y[:features.shape[0]], test_size=0.20, random_state=12345)\n",
    "\n",
    "# Создадим обучающую и валидационную выборки.\n",
    "features_train, features_valid, target_train, target_valid = train_test_split(\n",
    "    features_train_valid, target_train_valid, test_size=0.25, random_state=12345)\n",
    "\n",
    "print(features_train.shape)\n",
    "print(features_valid.shape)\n",
    "print(features_test.shape)"
   ]
  },
  {
   "cell_type": "markdown",
   "metadata": {},
   "source": [
    "### Обучение модели логистической регрессии"
   ]
  },
  {
   "cell_type": "code",
   "execution_count": 28,
   "metadata": {
    "id": "eYao5WPYSKg5"
   },
   "outputs": [],
   "source": [
    "# Инициализируем модель логистической регрессии\n",
    "model = LogisticRegression(\n",
    "                           class_weight='balanced', \n",
    "                           random_state=12345, \n",
    "                           )\n",
    "\n",
    "# Обучаем модель на тренировочной выборке\n",
    "model.fit(features_train, target_train)\n",
    "\n",
    "# в каждом случае оценим \"вероятности\" того, что целевой признак примет значение 0 или 1\n",
    "probabilities_valid = model.predict_proba(features_valid)\n",
    "\n",
    "# в каждом случае оценим \"вероятности\" того, что целевой признак примет значение 1\n",
    "probabilities_one_valid = probabilities_valid[:, 1]"
   ]
  },
  {
   "cell_type": "code",
   "execution_count": 30,
   "metadata": {
    "id": "g-2wNqc4W5I_"
   },
   "outputs": [],
   "source": [
    "f1 = []\n",
    "\n",
    "# Список пороговых значений\n",
    "# thresholds = np.unique(probabilities_one_valid)\n",
    "thresholds = np.arange(0, 1, 0.01)\n",
    "\n",
    "for threshold in thresholds:\n",
    "    # Получаем список предсказаний для текущего порогового значения\n",
    "    predicted_valid = probabilities_one_valid > threshold\n",
    "    # Рассчитаем F1-меру и добавляем её в список\n",
    "    f1.append(f1_score(target_valid, predicted_valid))\n",
    "\n",
    "# Преобрразуем список F1-мер для разных поороговых значений в Series\n",
    "f1 = pd.Series(f1)"
   ]
  },
  {
   "cell_type": "code",
   "execution_count": 31,
   "metadata": {
    "colab": {
     "base_uri": "https://localhost:8080/",
     "height": 421
    },
    "id": "8XNshdsAXG67",
    "outputId": "2ac2c1f0-7289-4663-b383-4e4f6835a5c8"
   },
   "outputs": [
    {
     "data": {
      "image/png": "[encoded data removed]",
      "text/plain": [
       "<Figure size 576x432 with 1 Axes>"
      ]
     },
     "metadata": {
      "needs_background": "light"
     },
     "output_type": "display_data"
    },
    {
     "name": "stdout",
     "output_type": "stream",
     "text": [
      "Наибольшее значение F1 = 0.73 достигается при пороговом значении 0.84.\n"
     ]
    }
   ],
   "source": [
    "plt.figure(figsize=(8, 6))\n",
    "plt.plot(thresholds, f1)\n",
    "\n",
    "plt.ylim([0.0, 1.0])\n",
    "plt.xlim([0.0, 1.0])\n",
    "plt.grid()\n",
    "\n",
    "plt.xlabel('Порог классификации')\n",
    "plt.ylabel('F1-мера')\n",
    "plt.title('Зависимость F1-меры от порога классификации')\n",
    "\n",
    "plt.show()\n",
    "\n",
    "print(f'Наибольшее значение F1 = {f1.max():.2f} достигается при пороговом значении {thresholds[f1.idxmax()]:.2f}.')"
   ]
  },
  {
   "cell_type": "markdown",
   "metadata": {
    "id": "i3HSaBpBX5YH"
   },
   "source": [
    "## Обучение модели CatBoost"
   ]
  },
  {
   "cell_type": "code",
   "execution_count": 32,
   "metadata": {
    "colab": {
     "base_uri": "https://localhost:8080/",
     "height": 52
    },
    "id": "57GFIDrLYDpg",
    "outputId": "a1bcadf7-14d0-4ab2-98b4-c356d754e14d"
   },
   "outputs": [
    {
     "data": {
      "text/plain": [
       "pandas.core.frame.DataFrame"
      ]
     },
     "metadata": {},
     "output_type": "display_data"
    },
    {
     "data": {
      "text/plain": [
       "pandas.core.frame.DataFrame"
      ]
     },
     "metadata": {},
     "output_type": "display_data"
    }
   ],
   "source": [
    "x_train = x_train.to_frame()\n",
    "x_valid = x_valid.to_frame()\n",
    "\n",
    "display(type(x_train))\n",
    "display(type(x_valid))"
   ]
  },
  {
   "cell_type": "code",
   "execution_count": 33,
   "metadata": {
    "colab": {
     "base_uri": "https://localhost:8080/"
    },
    "id": "iNRLPuCtYI4I",
    "outputId": "b3e354a6-393d-4982-cb96-b92b71121fab"
   },
   "outputs": [
    {
     "name": "stdout",
     "output_type": "stream",
     "text": [
      "Learning rate set to 0.132186\n",
      "0:\tlearn: 0.8489387\ttest: 0.8730637\tbest: 0.8730637 (0)\ttotal: 389ms\tremaining: 3m 14s\n",
      "100:\tlearn: 0.9033548\ttest: 0.9079688\tbest: 0.9079688 (100)\ttotal: 31.4s\tremaining: 2m 3s\n",
      "200:\tlearn: 0.9178547\ttest: 0.9121101\tbest: 0.9121101 (200)\ttotal: 1m 3s\tremaining: 1m 33s\n",
      "300:\tlearn: 0.9285553\ttest: 0.9111678\tbest: 0.9125051 (253)\ttotal: 1m 34s\tremaining: 1m 2s\n",
      "400:\tlearn: 0.9368477\ttest: 0.9111105\tbest: 0.9125051 (253)\ttotal: 2m 4s\tremaining: 30.7s\n",
      "499:\tlearn: 0.9446820\ttest: 0.9107039\tbest: 0.9125051 (253)\ttotal: 2m 38s\tremaining: 0us\n",
      "\n",
      "bestTest = 0.9125051243\n",
      "bestIteration = 253\n",
      "\n",
      "Shrink model to first 254 iterations.\n"
     ]
    },
    {
     "data": {
      "text/plain": [
       "<catboost.core.CatBoostClassifier at 0x7f6110872b90>"
      ]
     },
     "execution_count": 33,
     "metadata": {},
     "output_type": "execute_result"
    }
   ],
   "source": [
    "# Указываем гиперпараметры алгоритма градиентного бустинга\n",
    "params = {'iterations': 500,\n",
    "          'auto_class_weights': 'Balanced',\n",
    "          'text_features': ['clear_stemmed_text'],\n",
    "          'random_state': 12345,\n",
    "          'eval_metric': 'F1',\n",
    "          'verbose': 100}\n",
    "\n",
    "# Инициализируем модель градиентного бустинга\n",
    "cat_boost = CatBoostClassifier(**params)\n",
    "\n",
    "\n",
    "cat_boost.fit(          x_train, y_train, \n",
    "              eval_set=(x_valid, y_valid))"
   ]
  },
  {
   "cell_type": "code",
   "execution_count": 34,
   "metadata": {
    "id": "spyziz2ZY9Ot"
   },
   "outputs": [],
   "source": [
    "# В каждом случае оценим \"вероятности\" того, что целевой признак примет значение 0 или 1\n",
    "probabilities_valid = cat_boost.predict_proba(x_valid)\n",
    "\n",
    "# В каждом случае оценим \"вероятности\" того, что целевой признак примет значение 1\n",
    "probabilities_one_valid = probabilities_valid[:, 1]"
   ]
  },
  {
   "cell_type": "code",
   "execution_count": 36,
   "metadata": {
    "colab": {
     "base_uri": "https://localhost:8080/"
    },
    "id": "ffPwh6AMY_lo",
    "outputId": "40a7ab7c-683b-4760-cd91-4140dfe50d00"
   },
   "outputs": [
    {
     "name": "stderr",
     "output_type": "stream",
     "text": [
      "100%|██████████| 100/100 [00:01<00:00, 61.22it/s]\n"
     ]
    }
   ],
   "source": [
    "f1 = []\n",
    "\n",
    "# Список пороговых значений\n",
    "thresholds = np.arange(0, 1, 0.01)\n",
    "\n",
    "for threshold in tqdm(thresholds):\n",
    "    # Получаем список предсказаний для текущего порогового значения\n",
    "    predicted_valid = probabilities_one_valid > threshold\n",
    "    # Рассчитаем F1-меру и добавляем её в список\n",
    "    f1.append(f1_score(y_valid, predicted_valid))\n",
    "\n",
    "# Преобразуем список F1-мер для разных поороговых значений в Series\n",
    "f1 = pd.Series(f1)\n",
    "\n",
    "# Определим лучшее пороговое значение\n",
    "best_threshold_cat_boost = thresholds[f1.idxmax()]"
   ]
  },
  {
   "cell_type": "code",
   "execution_count": 37,
   "metadata": {
    "colab": {
     "base_uri": "https://localhost:8080/",
     "height": 421
    },
    "id": "dIvEEMzPZNz9",
    "outputId": "072f7c3c-e576-4f0a-f8e6-f755413ae474"
   },
   "outputs": [
    {
     "data": {
      "image/png": "[encoded data removed]",
      "text/plain": [
       "<Figure size 576x432 with 1 Axes>"
      ]
     },
     "metadata": {
      "needs_background": "light"
     },
     "output_type": "display_data"
    },
    {
     "name": "stdout",
     "output_type": "stream",
     "text": [
      "Наибольшее значение F1 = 0.79 достигается при пороговом значении 0.84.\n"
     ]
    }
   ],
   "source": [
    "plt.figure(figsize=(8, 6))\n",
    "plt.plot(thresholds, f1)\n",
    "\n",
    "plt.ylim([0.0, 1.0])\n",
    "plt.xlim([0.0, 1.0])\n",
    "plt.grid()\n",
    "\n",
    "plt.xlabel('Порог классификации')\n",
    "plt.ylabel('F1-мера')\n",
    "plt.title('Зависимость F1-меры от порога классификации')\n",
    "\n",
    "plt.show()\n",
    "\n",
    "print(f'Наибольшее значение F1 = {f1.max():.2f} достигается при пороговом значении {best_threshold_cat_boost:.2f}.')"
   ]
  },
  {
   "cell_type": "markdown",
   "metadata": {
    "id": "7d6tnuAIZank"
   },
   "source": [
    "## Тестирование лучшей модели\n",
    "\n",
    "На валидационной выборке полученные модели показали следующие результаты:\n",
    "1. Модель логистической регрессии, обученная на матрице TF-IDF: F1 = 0,79.\n",
    "2. Модель логистической регрессии, обученная с помощью BERT: F1 = 0,73.\n",
    "3. Модель CatBoost: F1 = 0,79.\n",
    "\n",
    "Для тестирования используем модель CatBoost, поскольку она показала один из лучших результатов по качеству прогнозирования и при этом не требует специальной подготовки текстовых признаков (векторизации)."
   ]
  },
  {
   "cell_type": "code",
   "execution_count": 39,
   "metadata": {
    "colab": {
     "base_uri": "https://localhost:8080/",
     "height": 34
    },
    "id": "NGRRkKQxcXEO",
    "outputId": "893cf9cc-9a6a-48a9-9717-c2524efcc364"
   },
   "outputs": [
    {
     "data": {
      "text/plain": [
       "pandas.core.frame.DataFrame"
      ]
     },
     "metadata": {},
     "output_type": "display_data"
    }
   ],
   "source": [
    "x_test = x_test.to_frame()\n",
    "display(type(x_test))"
   ]
  },
  {
   "cell_type": "code",
   "execution_count": 40,
   "metadata": {
    "colab": {
     "base_uri": "https://localhost:8080/"
    },
    "id": "oUABwjmjcdC_",
    "outputId": "82ed9800-9eec-45ef-d0f3-c810de1f683b"
   },
   "outputs": [
    {
     "data": {
      "text/plain": [
       "0.7835990888382689"
      ]
     },
     "execution_count": 40,
     "metadata": {},
     "output_type": "execute_result"
    }
   ],
   "source": [
    "# В каждом случае оценим \"вероятности\" того, что целевой признак примет значение 0 или 1\n",
    "probabilities_test = cat_boost.predict_proba(x_test)\n",
    "\n",
    "# В каждом случае оценим \"вероятности\" того, что целевой признак примет значение 1\n",
    "probabilities_one_test = probabilities_test[:, 1]\n",
    "\n",
    "\n",
    "predicted_test = probabilities_one_test > best_threshold_cat_boost\n",
    "f1_score(y_test, predicted_test)"
   ]
  },
  {
   "cell_type": "markdown",
   "metadata": {
    "id": "2qDVlLYtSKg6"
   },
   "source": [
    "**Вывод**. Значение метрики F1 на тестовой выборке превышает допустимое значение 0,75. Задача решена."
   ]
  },
  {
   "cell_type": "markdown",
   "metadata": {
    "id": "jvYZwH_fSKg7"
   },
   "source": [
    "## Чек-лист проверки"
   ]
  },
  {
   "cell_type": "markdown",
   "metadata": {
    "id": "chhTsc99SKg8"
   },
   "source": [
    "- [x]  Jupyter Notebook открыт\n",
    "- [x]  Весь код выполняется без ошибок\n",
    "- [x]  Ячейки с кодом расположены в порядке исполнения\n",
    "- [x]  Данные загружены и подготовлены\n",
    "- [x]  Модели обучены\n",
    "- [x]  Значение метрики F1 не меньше 0.75\n",
    "- [x]  Выводы написаны"
   ]
  }
 ],
 "metadata": {
  "ExecuteTimeLog": [
   {
    "duration": 1104,
    "start_time": "2022-05-02T19:26:58.403Z"
   },
   {
    "duration": 724,
    "start_time": "2022-05-02T19:28:16.858Z"
   },
   {
    "duration": 7,
    "start_time": "2022-05-02T19:30:13.172Z"
   },
   {
    "duration": 656,
    "start_time": "2022-05-02T19:50:12.440Z"
   },
   {
    "duration": 3,
    "start_time": "2022-05-02T19:50:29.616Z"
   },
   {
    "duration": 4,
    "start_time": "2022-05-02T19:50:47.391Z"
   },
   {
    "duration": 3,
    "start_time": "2022-05-02T20:12:31.349Z"
   },
   {
    "duration": 102,
    "start_time": "2022-05-02T20:32:10.923Z"
   },
   {
    "duration": 21,
    "start_time": "2022-05-02T20:32:18.307Z"
   },
   {
    "duration": 18,
    "start_time": "2022-05-02T20:33:01.768Z"
   },
   {
    "duration": 1671,
    "start_time": "2022-05-02T20:35:42.715Z"
   },
   {
    "duration": 19,
    "start_time": "2022-05-02T20:36:32.901Z"
   },
   {
    "duration": 81,
    "start_time": "2022-05-02T20:37:49.339Z"
   },
   {
    "duration": 1822,
    "start_time": "2022-05-02T20:37:58.611Z"
   },
   {
    "duration": 3332,
    "start_time": "2022-05-02T20:38:00.435Z"
   },
   {
    "duration": 7,
    "start_time": "2022-05-02T20:38:03.769Z"
   },
   {
    "duration": 1769,
    "start_time": "2022-05-02T20:38:03.778Z"
   },
   {
    "duration": 7,
    "start_time": "2022-05-02T20:38:39.151Z"
   },
   {
    "duration": 6,
    "start_time": "2022-05-02T20:40:45.821Z"
   },
   {
    "duration": 6,
    "start_time": "2022-05-02T20:46:55.359Z"
   },
   {
    "duration": 5,
    "start_time": "2022-05-02T20:47:09.458Z"
   },
   {
    "duration": 4,
    "start_time": "2022-05-02T20:53:46.680Z"
   },
   {
    "duration": 685,
    "start_time": "2022-05-02T20:53:46.689Z"
   },
   {
    "duration": 4,
    "start_time": "2022-05-02T20:53:47.376Z"
   },
   {
    "duration": 17,
    "start_time": "2022-05-02T20:53:47.381Z"
   },
   {
    "duration": 23,
    "start_time": "2022-05-02T20:53:47.400Z"
   },
   {
    "duration": 79243,
    "start_time": "2022-05-02T20:53:47.426Z"
   },
   {
    "duration": 44,
    "start_time": "2022-05-02T20:57:28.528Z"
   },
   {
    "duration": 29,
    "start_time": "2022-05-02T21:01:01.851Z"
   },
   {
    "duration": 59,
    "start_time": "2022-05-02T21:02:51.429Z"
   },
   {
    "duration": 22,
    "start_time": "2022-05-02T21:04:40.555Z"
   },
   {
    "duration": 660,
    "start_time": "2022-05-02T21:04:43.054Z"
   },
   {
    "duration": 3,
    "start_time": "2022-05-02T21:05:29.688Z"
   },
   {
    "duration": 681,
    "start_time": "2022-05-02T21:05:35.747Z"
   },
   {
    "duration": 5,
    "start_time": "2022-05-02T21:05:42.495Z"
   },
   {
    "duration": 19,
    "start_time": "2022-05-02T21:05:50.202Z"
   },
   {
    "duration": 19,
    "start_time": "2022-05-02T21:05:53.215Z"
   },
   {
    "duration": 4,
    "start_time": "2022-05-02T21:05:57.743Z"
   },
   {
    "duration": 87525,
    "start_time": "2022-05-02T21:06:02.112Z"
   },
   {
    "duration": 55,
    "start_time": "2022-05-02T21:07:35.882Z"
   },
   {
    "duration": 4,
    "start_time": "2022-05-02T21:09:53.377Z"
   },
   {
    "duration": 731,
    "start_time": "2022-05-02T21:09:53.383Z"
   },
   {
    "duration": 12,
    "start_time": "2022-05-02T21:09:54.116Z"
   },
   {
    "duration": 3,
    "start_time": "2022-05-02T21:09:54.131Z"
   },
   {
    "duration": 7,
    "start_time": "2022-05-02T21:09:54.136Z"
   },
   {
    "duration": 88484,
    "start_time": "2022-05-02T21:09:54.146Z"
   },
   {
    "duration": 60,
    "start_time": "2022-05-02T21:11:22.632Z"
   },
   {
    "duration": 4,
    "start_time": "2022-05-02T21:28:59.337Z"
   },
   {
    "duration": 664,
    "start_time": "2022-05-02T21:28:59.346Z"
   },
   {
    "duration": 13,
    "start_time": "2022-05-02T21:29:00.013Z"
   },
   {
    "duration": 5,
    "start_time": "2022-05-02T21:29:00.028Z"
   },
   {
    "duration": 89098,
    "start_time": "2022-05-02T21:29:00.035Z"
   },
   {
    "duration": 2,
    "start_time": "2022-05-02T21:30:29.135Z"
   },
   {
    "duration": 1725,
    "start_time": "2022-05-02T21:30:29.139Z"
   },
   {
    "duration": 73,
    "start_time": "2022-05-02T21:31:05.817Z"
   },
   {
    "duration": 4,
    "start_time": "2022-05-02T21:31:53.451Z"
   },
   {
    "duration": 1069,
    "start_time": "2022-05-02T21:31:53.463Z"
   },
   {
    "duration": 5,
    "start_time": "2022-05-02T21:31:54.534Z"
   },
   {
    "duration": 4,
    "start_time": "2022-05-02T21:31:54.541Z"
   },
   {
    "duration": 140,
    "start_time": "2022-05-02T21:31:54.546Z"
   },
   {
    "duration": 1933,
    "start_time": "2022-05-02T21:32:04.582Z"
   },
   {
    "duration": 3323,
    "start_time": "2022-05-02T21:32:06.517Z"
   },
   {
    "duration": 7,
    "start_time": "2022-05-02T21:32:09.842Z"
   },
   {
    "duration": 3,
    "start_time": "2022-05-02T21:32:09.851Z"
   },
   {
    "duration": 57,
    "start_time": "2022-05-02T21:32:09.856Z"
   },
   {
    "duration": 1473,
    "start_time": "2022-05-02T21:32:09.915Z"
   },
   {
    "duration": 48,
    "start_time": "2022-05-02T21:32:26.842Z"
   },
   {
    "duration": 4,
    "start_time": "2022-05-02T21:32:44.138Z"
   },
   {
    "duration": 669,
    "start_time": "2022-05-02T21:32:44.146Z"
   },
   {
    "duration": 5,
    "start_time": "2022-05-02T21:32:44.823Z"
   },
   {
    "duration": 4,
    "start_time": "2022-05-02T21:32:44.830Z"
   },
   {
    "duration": 33,
    "start_time": "2022-05-02T21:32:44.836Z"
   },
   {
    "duration": 1027,
    "start_time": "2022-05-02T21:32:44.871Z"
   },
   {
    "duration": 78,
    "start_time": "2022-05-02T21:32:45.899Z"
   },
   {
    "duration": 1395,
    "start_time": "2022-05-03T06:21:42.726Z"
   },
   {
    "duration": 846,
    "start_time": "2022-05-03T06:21:44.123Z"
   },
   {
    "duration": 406,
    "start_time": "2022-05-03T06:21:44.971Z"
   },
   {
    "duration": 3,
    "start_time": "2022-05-03T06:21:45.379Z"
   },
   {
    "duration": 52,
    "start_time": "2022-05-03T06:21:45.383Z"
   },
   {
    "duration": 2795,
    "start_time": "2022-05-03T06:21:45.437Z"
   },
   {
    "duration": 45,
    "start_time": "2022-05-03T06:21:48.234Z"
   },
   {
    "duration": 126,
    "start_time": "2022-05-03T06:21:48.280Z"
   },
   {
    "duration": 4,
    "start_time": "2022-05-03T06:22:35.535Z"
   },
   {
    "duration": 3,
    "start_time": "2022-05-03T06:22:42.356Z"
   },
   {
    "duration": 8,
    "start_time": "2022-05-03T06:22:51.556Z"
   },
   {
    "duration": 10,
    "start_time": "2022-05-03T06:23:42.936Z"
   },
   {
    "duration": 132,
    "start_time": "2022-05-03T06:23:52.020Z"
   },
   {
    "duration": 6,
    "start_time": "2022-05-03T06:24:32.775Z"
   },
   {
    "duration": 3,
    "start_time": "2022-05-03T06:24:42.131Z"
   },
   {
    "duration": 7,
    "start_time": "2022-05-03T06:27:34.691Z"
   },
   {
    "duration": 4,
    "start_time": "2022-05-03T06:39:59.251Z"
   },
   {
    "duration": 811,
    "start_time": "2022-05-03T06:39:59.265Z"
   },
   {
    "duration": 5,
    "start_time": "2022-05-03T06:40:00.077Z"
   },
   {
    "duration": 7,
    "start_time": "2022-05-03T06:40:00.083Z"
   },
   {
    "duration": 42,
    "start_time": "2022-05-03T06:40:00.100Z"
   },
   {
    "duration": 0,
    "start_time": "2022-05-03T06:40:00.143Z"
   },
   {
    "duration": 0,
    "start_time": "2022-05-03T06:40:00.145Z"
   },
   {
    "duration": 23,
    "start_time": "2022-05-03T06:40:48.578Z"
   },
   {
    "duration": 23,
    "start_time": "2022-05-03T06:40:59.366Z"
   },
   {
    "duration": 22,
    "start_time": "2022-05-03T06:41:49.136Z"
   },
   {
    "duration": 9,
    "start_time": "2022-05-03T06:42:01.061Z"
   },
   {
    "duration": 25,
    "start_time": "2022-05-03T06:42:41.381Z"
   },
   {
    "duration": 19070,
    "start_time": "2022-05-03T06:42:48.566Z"
   },
   {
    "duration": 39,
    "start_time": "2022-05-03T06:44:27.062Z"
   },
   {
    "duration": 97483,
    "start_time": "2022-05-03T06:44:35.560Z"
   },
   {
    "duration": 3527,
    "start_time": "2022-05-03T06:46:17.661Z"
   },
   {
    "duration": 54,
    "start_time": "2022-05-03T06:46:30.535Z"
   },
   {
    "duration": 22,
    "start_time": "2022-05-03T06:46:40.367Z"
   },
   {
    "duration": 20,
    "start_time": "2022-05-03T06:46:46.947Z"
   },
   {
    "duration": 9,
    "start_time": "2022-05-03T06:47:16.780Z"
   },
   {
    "duration": 20,
    "start_time": "2022-05-03T06:47:33.841Z"
   },
   {
    "duration": 787,
    "start_time": "2022-05-03T06:47:33.868Z"
   },
   {
    "duration": 5,
    "start_time": "2022-05-03T06:47:34.657Z"
   },
   {
    "duration": 5,
    "start_time": "2022-05-03T06:47:34.663Z"
   },
   {
    "duration": 100146,
    "start_time": "2022-05-03T06:47:34.669Z"
   },
   {
    "duration": 3241,
    "start_time": "2022-05-03T06:49:14.818Z"
   },
   {
    "duration": 55,
    "start_time": "2022-05-03T06:52:42.540Z"
   },
   {
    "duration": 21,
    "start_time": "2022-05-03T06:52:52.646Z"
   },
   {
    "duration": 832,
    "start_time": "2022-05-03T06:52:52.724Z"
   },
   {
    "duration": 4,
    "start_time": "2022-05-03T06:52:53.558Z"
   },
   {
    "duration": 7,
    "start_time": "2022-05-03T06:52:53.563Z"
   },
   {
    "duration": 57,
    "start_time": "2022-05-03T06:52:53.572Z"
   },
   {
    "duration": 3761,
    "start_time": "2022-05-03T06:52:53.632Z"
   },
   {
    "duration": 88,
    "start_time": "2022-05-03T06:52:57.394Z"
   },
   {
    "duration": 2733,
    "start_time": "2022-05-03T06:55:59.970Z"
   },
   {
    "duration": 747,
    "start_time": "2022-05-03T06:56:20.695Z"
   },
   {
    "duration": 5,
    "start_time": "2022-05-03T06:57:36.555Z"
   },
   {
    "duration": 4,
    "start_time": "2022-05-03T06:58:04.744Z"
   },
   {
    "duration": 56,
    "start_time": "2022-05-03T07:01:48.890Z"
   },
   {
    "duration": 1313,
    "start_time": "2022-05-03T07:04:14.076Z"
   },
   {
    "duration": 63,
    "start_time": "2022-05-03T07:04:22.000Z"
   },
   {
    "duration": 4,
    "start_time": "2022-05-03T07:04:26.395Z"
   },
   {
    "duration": 714,
    "start_time": "2022-05-03T07:04:27.946Z"
   },
   {
    "duration": 1005,
    "start_time": "2022-05-03T07:05:13.924Z"
   },
   {
    "duration": 53,
    "start_time": "2022-05-03T07:05:20.222Z"
   },
   {
    "duration": 3,
    "start_time": "2022-05-03T07:05:22.235Z"
   },
   {
    "duration": 710,
    "start_time": "2022-05-03T07:05:23.925Z"
   },
   {
    "duration": 2512,
    "start_time": "2022-05-03T07:05:41.750Z"
   },
   {
    "duration": 3051,
    "start_time": "2022-05-03T07:06:00.425Z"
   },
   {
    "duration": 92,
    "start_time": "2022-05-03T07:06:10.085Z"
   },
   {
    "duration": 740,
    "start_time": "2022-05-03T07:06:15.642Z"
   },
   {
    "duration": 8,
    "start_time": "2022-05-03T07:07:55.675Z"
   },
   {
    "duration": 2641,
    "start_time": "2022-05-03T07:08:03.565Z"
   },
   {
    "duration": 23,
    "start_time": "2022-05-03T07:08:08.360Z"
   },
   {
    "duration": 24,
    "start_time": "2022-05-03T07:09:18.015Z"
   },
   {
    "duration": 47,
    "start_time": "2022-05-03T07:10:08.875Z"
   },
   {
    "duration": 50,
    "start_time": "2022-05-03T07:10:15.656Z"
   },
   {
    "duration": 68,
    "start_time": "2022-05-03T07:15:15.001Z"
   },
   {
    "duration": 711,
    "start_time": "2022-05-03T07:15:42.335Z"
   },
   {
    "duration": 2687,
    "start_time": "2022-05-03T07:16:10.614Z"
   },
   {
    "duration": 33,
    "start_time": "2022-05-03T07:16:16.849Z"
   },
   {
    "duration": 55,
    "start_time": "2022-05-03T07:16:22.507Z"
   },
   {
    "duration": 6530,
    "start_time": "2022-05-03T07:16:27.029Z"
   },
   {
    "duration": 4,
    "start_time": "2022-05-03T07:48:28.034Z"
   },
   {
    "duration": 25,
    "start_time": "2022-05-03T07:52:46.909Z"
   },
   {
    "duration": 22,
    "start_time": "2022-05-03T07:52:55.264Z"
   },
   {
    "duration": 4,
    "start_time": "2022-05-03T07:53:04.530Z"
   },
   {
    "duration": 20,
    "start_time": "2022-05-03T07:54:11.355Z"
   },
   {
    "duration": 32,
    "start_time": "2022-05-03T07:54:46.099Z"
   },
   {
    "duration": 34,
    "start_time": "2022-05-03T07:55:13.100Z"
   },
   {
    "duration": 24,
    "start_time": "2022-05-03T07:55:19.939Z"
   },
   {
    "duration": 30,
    "start_time": "2022-05-03T08:19:36.638Z"
   },
   {
    "duration": 32,
    "start_time": "2022-05-03T08:33:14.968Z"
   },
   {
    "duration": 53087,
    "start_time": "2022-05-03T08:33:32.227Z"
   },
   {
    "duration": 27678,
    "start_time": "2022-05-03T09:19:11.922Z"
   },
   {
    "duration": 27,
    "start_time": "2022-05-03T09:30:32.813Z"
   },
   {
    "duration": 26,
    "start_time": "2022-05-03T09:30:38.512Z"
   },
   {
    "duration": 3014,
    "start_time": "2022-05-03T09:31:48.357Z"
   },
   {
    "duration": 3028,
    "start_time": "2022-05-03T09:32:14.039Z"
   },
   {
    "duration": 15,
    "start_time": "2022-05-03T09:32:30.916Z"
   },
   {
    "duration": 17540,
    "start_time": "2022-05-03T09:33:08.968Z"
   },
   {
    "duration": 9969,
    "start_time": "2022-05-03T09:33:44.249Z"
   },
   {
    "duration": 6135,
    "start_time": "2022-05-03T09:35:30.725Z"
   },
   {
    "duration": 25186,
    "start_time": "2022-05-03T09:35:45.730Z"
   },
   {
    "duration": 3914,
    "start_time": "2022-05-03T09:41:47.686Z"
   },
   {
    "duration": 7109,
    "start_time": "2022-05-03T09:41:57.564Z"
   },
   {
    "duration": 14630,
    "start_time": "2022-05-03T09:42:58.605Z"
   },
   {
    "duration": 14431,
    "start_time": "2022-05-03T09:45:03.394Z"
   },
   {
    "duration": 1271,
    "start_time": "2022-05-03T09:45:22.890Z"
   },
   {
    "duration": 12,
    "start_time": "2022-05-03T09:46:11.233Z"
   },
   {
    "duration": 94335,
    "start_time": "2022-05-03T09:47:16.272Z"
   },
   {
    "duration": 11,
    "start_time": "2022-05-03T09:49:58.268Z"
   },
   {
    "duration": 6873,
    "start_time": "2022-05-03T09:50:11.466Z"
   },
   {
    "duration": 6793,
    "start_time": "2022-05-03T09:50:35.799Z"
   },
   {
    "duration": 27,
    "start_time": "2022-05-03T09:56:48.868Z"
   },
   {
    "duration": 25,
    "start_time": "2022-05-03T10:09:07.489Z"
   },
   {
    "duration": 0,
    "start_time": "2022-05-03T10:09:07.516Z"
   },
   {
    "duration": 0,
    "start_time": "2022-05-03T10:09:07.517Z"
   },
   {
    "duration": 3,
    "start_time": "2022-05-03T10:09:07.562Z"
   },
   {
    "duration": 9,
    "start_time": "2022-05-03T10:09:07.570Z"
   },
   {
    "duration": 8,
    "start_time": "2022-05-03T10:09:07.623Z"
   },
   {
    "duration": 0,
    "start_time": "2022-05-03T10:09:07.633Z"
   },
   {
    "duration": 28,
    "start_time": "2022-05-03T10:09:21.515Z"
   },
   {
    "duration": 0,
    "start_time": "2022-05-03T10:09:21.544Z"
   },
   {
    "duration": 0,
    "start_time": "2022-05-03T10:09:21.545Z"
   },
   {
    "duration": 3,
    "start_time": "2022-05-03T10:09:21.608Z"
   },
   {
    "duration": 17,
    "start_time": "2022-05-03T10:09:21.613Z"
   },
   {
    "duration": 0,
    "start_time": "2022-05-03T10:09:21.631Z"
   },
   {
    "duration": 0,
    "start_time": "2022-05-03T10:09:21.632Z"
   },
   {
    "duration": 8,
    "start_time": "2022-05-03T10:09:45.352Z"
   },
   {
    "duration": 23,
    "start_time": "2022-05-03T10:10:49.523Z"
   },
   {
    "duration": 21,
    "start_time": "2022-05-03T10:11:04.647Z"
   },
   {
    "duration": 699,
    "start_time": "2022-05-03T10:11:04.670Z"
   },
   {
    "duration": 5,
    "start_time": "2022-05-03T10:11:05.371Z"
   },
   {
    "duration": 6,
    "start_time": "2022-05-03T10:11:05.378Z"
   },
   {
    "duration": 34862,
    "start_time": "2022-05-03T10:11:05.400Z"
   },
   {
    "duration": 8,
    "start_time": "2022-05-03T10:11:40.263Z"
   },
   {
    "duration": 107,
    "start_time": "2022-05-03T10:11:40.272Z"
   },
   {
    "duration": 55,
    "start_time": "2022-05-03T10:14:29.946Z"
   },
   {
    "duration": 5895,
    "start_time": "2022-05-03T10:14:35.439Z"
   },
   {
    "duration": 41080,
    "start_time": "2022-05-03T10:14:48.625Z"
   },
   {
    "duration": 4,
    "start_time": "2022-05-03T10:18:29.116Z"
   },
   {
    "duration": 23,
    "start_time": "2022-05-03T10:18:50.831Z"
   },
   {
    "duration": 710,
    "start_time": "2022-05-03T10:18:50.856Z"
   },
   {
    "duration": 5,
    "start_time": "2022-05-03T10:18:51.568Z"
   },
   {
    "duration": 5,
    "start_time": "2022-05-03T10:18:51.575Z"
   },
   {
    "duration": 1348,
    "start_time": "2022-05-03T10:18:51.581Z"
   },
   {
    "duration": 0,
    "start_time": "2022-05-03T10:18:52.931Z"
   },
   {
    "duration": 3,
    "start_time": "2022-05-03T10:19:26.398Z"
   },
   {
    "duration": 4,
    "start_time": "2022-05-03T10:21:00.587Z"
   },
   {
    "duration": 34574,
    "start_time": "2022-05-03T10:21:03.146Z"
   },
   {
    "duration": 7,
    "start_time": "2022-05-03T10:21:42.592Z"
   },
   {
    "duration": 78,
    "start_time": "2022-05-03T10:22:00.313Z"
   },
   {
    "duration": 62,
    "start_time": "2022-05-03T10:22:06.753Z"
   },
   {
    "duration": 5986,
    "start_time": "2022-05-03T10:22:28.591Z"
   },
   {
    "duration": 40951,
    "start_time": "2022-05-03T10:22:52.352Z"
   },
   {
    "duration": 56,
    "start_time": "2022-05-03T10:24:21.111Z"
   },
   {
    "duration": 23,
    "start_time": "2022-05-03T10:24:30.827Z"
   },
   {
    "duration": 5,
    "start_time": "2022-05-03T10:25:10.682Z"
   },
   {
    "duration": 21,
    "start_time": "2022-05-03T10:26:10.765Z"
   },
   {
    "duration": 673,
    "start_time": "2022-05-03T10:26:10.788Z"
   },
   {
    "duration": 6,
    "start_time": "2022-05-03T10:26:11.463Z"
   },
   {
    "duration": 4,
    "start_time": "2022-05-03T10:26:11.472Z"
   },
   {
    "duration": 97,
    "start_time": "2022-05-03T10:26:11.477Z"
   },
   {
    "duration": 2692,
    "start_time": "2022-05-03T10:26:11.576Z"
   },
   {
    "duration": 36,
    "start_time": "2022-05-03T10:26:14.270Z"
   },
   {
    "duration": 74,
    "start_time": "2022-05-03T10:26:14.308Z"
   },
   {
    "duration": 5865,
    "start_time": "2022-05-03T10:26:14.384Z"
   },
   {
    "duration": 4,
    "start_time": "2022-05-03T10:26:20.251Z"
   },
   {
    "duration": 45,
    "start_time": "2022-05-03T10:26:20.256Z"
   },
   {
    "duration": 23299,
    "start_time": "2022-05-03T10:26:20.302Z"
   },
   {
    "duration": 25743,
    "start_time": "2022-05-03T10:28:20.869Z"
   },
   {
    "duration": 199,
    "start_time": "2022-05-03T10:38:17.036Z"
   },
   {
    "duration": 25014,
    "start_time": "2022-05-03T10:38:42.193Z"
   },
   {
    "duration": 21355,
    "start_time": "2022-05-03T10:42:19.953Z"
   },
   {
    "duration": 22884,
    "start_time": "2022-05-03T10:43:00.429Z"
   },
   {
    "duration": 23013,
    "start_time": "2022-05-03T10:43:38.993Z"
   },
   {
    "duration": 9,
    "start_time": "2022-05-03T10:59:05.476Z"
   },
   {
    "duration": 14,
    "start_time": "2022-05-03T10:59:25.732Z"
   },
   {
    "duration": 6,
    "start_time": "2022-05-03T11:00:54.441Z"
   },
   {
    "duration": 109134,
    "start_time": "2022-05-03T11:01:07.853Z"
   },
   {
    "duration": 12,
    "start_time": "2022-05-03T11:03:09.408Z"
   },
   {
    "duration": 23,
    "start_time": "2022-05-03T11:03:55.312Z"
   },
   {
    "duration": 28184,
    "start_time": "2022-05-03T11:04:02.175Z"
   },
   {
    "duration": 21,
    "start_time": "2022-05-03T11:06:26.091Z"
   },
   {
    "duration": 269405,
    "start_time": "2022-05-03T11:06:40.968Z"
   },
   {
    "duration": 486,
    "start_time": "2022-05-03T11:11:54.321Z"
   },
   {
    "duration": 122,
    "start_time": "2022-05-03T11:12:28.373Z"
   },
   {
    "duration": 20,
    "start_time": "2022-05-03T11:15:09.093Z"
   },
   {
    "duration": 10,
    "start_time": "2022-05-03T11:15:45.206Z"
   },
   {
    "duration": 9,
    "start_time": "2022-05-03T11:16:05.856Z"
   },
   {
    "duration": 792,
    "start_time": "2022-05-03T11:17:02.328Z"
   },
   {
    "duration": 107,
    "start_time": "2022-05-03T11:17:06.997Z"
   },
   {
    "duration": 808,
    "start_time": "2022-05-03T11:17:33.206Z"
   },
   {
    "duration": 107,
    "start_time": "2022-05-03T11:17:35.780Z"
   },
   {
    "duration": 49,
    "start_time": "2022-05-03T11:21:21.892Z"
   },
   {
    "duration": 56,
    "start_time": "2022-05-03T11:21:28.135Z"
   },
   {
    "duration": 107,
    "start_time": "2022-05-03T11:21:31.890Z"
   },
   {
    "duration": 792,
    "start_time": "2022-05-03T11:24:49.613Z"
   },
   {
    "duration": 109,
    "start_time": "2022-05-03T11:24:52.133Z"
   },
   {
    "duration": 785,
    "start_time": "2022-05-03T11:26:23.321Z"
   },
   {
    "duration": 116,
    "start_time": "2022-05-03T11:26:29.098Z"
   },
   {
    "duration": 100,
    "start_time": "2022-05-03T11:29:47.816Z"
   },
   {
    "duration": 122,
    "start_time": "2022-05-03T11:29:51.931Z"
   },
   {
    "duration": 104,
    "start_time": "2022-05-03T11:30:14.561Z"
   },
   {
    "duration": 112,
    "start_time": "2022-05-03T11:30:20.440Z"
   },
   {
    "duration": 869,
    "start_time": "2022-05-03T11:30:31.088Z"
   },
   {
    "duration": 802,
    "start_time": "2022-05-03T11:30:43.360Z"
   },
   {
    "duration": 116,
    "start_time": "2022-05-03T11:30:49.132Z"
   },
   {
    "duration": 23000,
    "start_time": "2022-05-03T11:36:53.801Z"
   },
   {
    "duration": 800,
    "start_time": "2022-05-03T11:37:19.355Z"
   },
   {
    "duration": 108,
    "start_time": "2022-05-03T11:37:24.253Z"
   },
   {
    "duration": 114,
    "start_time": "2022-05-03T11:54:01.635Z"
   },
   {
    "duration": 114,
    "start_time": "2022-05-03T11:54:17.487Z"
   },
   {
    "duration": 115,
    "start_time": "2022-05-03T11:54:38.614Z"
   }
  ],
  "accelerator": "GPU",
  "colab": {
   "collapsed_sections": [],
   "name": "project_13_BERT — копия.ipynb",
   "provenance": []
  },
  "gpuClass": "standard",
  "kernelspec": {
   "display_name": "Python 3 (ipykernel)",
   "language": "python",
   "name": "python3"
  },
  "language_info": {
   "codemirror_mode": {
    "name": "ipython",
    "version": 3
   },
   "file_extension": ".py",
   "mimetype": "text/x-python",
   "name": "python",
   "nbconvert_exporter": "python",
   "pygments_lexer": "ipython3",
   "version": "3.9.13"
  },
  "toc": {
   "base_numbering": 1,
   "nav_menu": {},
   "number_sections": true,
   "sideBar": true,
   "skip_h1_title": true,
   "title_cell": "Содержание",
   "title_sidebar": "Contents",
   "toc_cell": true,
   "toc_position": {
    "height": "calc(100% - 180px)",
    "left": "10px",
    "top": "150px",
    "width": "302.391px"
   },
   "toc_section_display": true,
   "toc_window_display": false
  },
  "vscode": {
   "interpreter": {
    "hash": "591a79bee64ad568ec6f89e3b618efc0f99908eb6ec63c9e71e73f6f1e7a767a"
   }
  }
 },
 "nbformat": 4,
 "nbformat_minor": 1
}
